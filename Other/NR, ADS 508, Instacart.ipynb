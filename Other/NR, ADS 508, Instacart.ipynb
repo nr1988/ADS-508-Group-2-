{
 "cells": [
  {
   "cell_type": "code",
   "execution_count": 68,
   "id": "bc90420d",
   "metadata": {},
   "outputs": [],
   "source": [
    "import pandas as pd\n",
    "import numpy as np\n",
    "from IPython.display import display\n",
    "import matplotlib.pyplot as plt\n",
    "import seaborn as sns \n",
    "\n",
    "%matplotlib inline "
   ]
  },
  {
   "cell_type": "code",
   "execution_count": 2,
   "id": "a46762a3",
   "metadata": {},
   "outputs": [],
   "source": [
    "o_p_t=pd.read_csv(\"order_products__train.csv\")\n",
    "o_p_p=pd.read_csv(\"order_products__prior.csv\")\n",
    "orders=pd.read_csv(\"orders.csv\")\n",
    "products=pd.read_csv(\"products.csv\")\n",
    "aisles=pd.read_csv(\"aisles.csv\")\n",
    "departments=pd.read_csv(\"departments.csv\")"
   ]
  },
  {
   "cell_type": "markdown",
   "id": "61582b69",
   "metadata": {},
   "source": [
    "### Combining data"
   ]
  },
  {
   "cell_type": "code",
   "execution_count": 3,
   "id": "0d34102f",
   "metadata": {},
   "outputs": [],
   "source": [
    "ailes_product=pd.merge(aisles,products, how='inner', on='aisle_id')"
   ]
  },
  {
   "cell_type": "code",
   "execution_count": 4,
   "id": "9d345361",
   "metadata": {},
   "outputs": [],
   "source": [
    "ailes_product_dep = pd.merge(ailes_product, departments, how='inner', on='department_id')"
   ]
  },
  {
   "cell_type": "code",
   "execution_count": 6,
   "id": "908ab488",
   "metadata": {},
   "outputs": [],
   "source": [
    "ailes_product_dep_opt = pd.merge(o_p_t, ailes_product_dep, how='inner', on='product_id')"
   ]
  },
  {
   "cell_type": "code",
   "execution_count": 19,
   "id": "3ff90bfe",
   "metadata": {},
   "outputs": [],
   "source": [
    "final_df= pd.merge(orders, ailes_product_dep_opt, how='inner', on='order_id')"
   ]
  },
  {
   "cell_type": "code",
   "execution_count": 155,
   "id": "24fa9493",
   "metadata": {},
   "outputs": [
    {
     "data": {
      "text/plain": [
       "(1384617, 12)"
      ]
     },
     "execution_count": 155,
     "metadata": {},
     "output_type": "execute_result"
    }
   ],
   "source": [
    "df = final_df.drop(['aisle_id','department_id','eval_set'],axis=1)\n",
    "df.shape"
   ]
  },
  {
   "cell_type": "code",
   "execution_count": 156,
   "id": "a47b65d6",
   "metadata": {},
   "outputs": [
    {
     "data": {
      "text/html": [
       "<div>\n",
       "<style scoped>\n",
       "    .dataframe tbody tr th:only-of-type {\n",
       "        vertical-align: middle;\n",
       "    }\n",
       "\n",
       "    .dataframe tbody tr th {\n",
       "        vertical-align: top;\n",
       "    }\n",
       "\n",
       "    .dataframe thead th {\n",
       "        text-align: right;\n",
       "    }\n",
       "</style>\n",
       "<table border=\"1\" class=\"dataframe\">\n",
       "  <thead>\n",
       "    <tr style=\"text-align: right;\">\n",
       "      <th></th>\n",
       "      <th>order_id</th>\n",
       "      <th>user_id</th>\n",
       "      <th>order_number</th>\n",
       "      <th>order_dow</th>\n",
       "      <th>order_hour_of_day</th>\n",
       "      <th>days_since_prior_order</th>\n",
       "      <th>product_id</th>\n",
       "      <th>add_to_cart_order</th>\n",
       "      <th>reordered</th>\n",
       "      <th>aisle</th>\n",
       "      <th>product_name</th>\n",
       "      <th>department</th>\n",
       "    </tr>\n",
       "  </thead>\n",
       "  <tbody>\n",
       "    <tr>\n",
       "      <th>0</th>\n",
       "      <td>1187899</td>\n",
       "      <td>1</td>\n",
       "      <td>11</td>\n",
       "      <td>4</td>\n",
       "      <td>8</td>\n",
       "      <td>14.0</td>\n",
       "      <td>49235</td>\n",
       "      <td>10</td>\n",
       "      <td>1</td>\n",
       "      <td>cream</td>\n",
       "      <td>Organic Half &amp; Half</td>\n",
       "      <td>dairy eggs</td>\n",
       "    </tr>\n",
       "    <tr>\n",
       "      <th>1</th>\n",
       "      <td>1187899</td>\n",
       "      <td>1</td>\n",
       "      <td>11</td>\n",
       "      <td>4</td>\n",
       "      <td>8</td>\n",
       "      <td>14.0</td>\n",
       "      <td>46149</td>\n",
       "      <td>11</td>\n",
       "      <td>1</td>\n",
       "      <td>soft drinks</td>\n",
       "      <td>Zero Calorie Cola</td>\n",
       "      <td>beverages</td>\n",
       "    </tr>\n",
       "    <tr>\n",
       "      <th>2</th>\n",
       "      <td>1187899</td>\n",
       "      <td>1</td>\n",
       "      <td>11</td>\n",
       "      <td>4</td>\n",
       "      <td>8</td>\n",
       "      <td>14.0</td>\n",
       "      <td>196</td>\n",
       "      <td>1</td>\n",
       "      <td>1</td>\n",
       "      <td>soft drinks</td>\n",
       "      <td>Soda</td>\n",
       "      <td>beverages</td>\n",
       "    </tr>\n",
       "    <tr>\n",
       "      <th>3</th>\n",
       "      <td>1187899</td>\n",
       "      <td>1</td>\n",
       "      <td>11</td>\n",
       "      <td>4</td>\n",
       "      <td>8</td>\n",
       "      <td>14.0</td>\n",
       "      <td>27845</td>\n",
       "      <td>9</td>\n",
       "      <td>0</td>\n",
       "      <td>milk</td>\n",
       "      <td>Organic Whole Milk</td>\n",
       "      <td>dairy eggs</td>\n",
       "    </tr>\n",
       "    <tr>\n",
       "      <th>4</th>\n",
       "      <td>1187899</td>\n",
       "      <td>1</td>\n",
       "      <td>11</td>\n",
       "      <td>4</td>\n",
       "      <td>8</td>\n",
       "      <td>14.0</td>\n",
       "      <td>38928</td>\n",
       "      <td>3</td>\n",
       "      <td>1</td>\n",
       "      <td>yogurt</td>\n",
       "      <td>0% Greek Strained Yogurt</td>\n",
       "      <td>dairy eggs</td>\n",
       "    </tr>\n",
       "  </tbody>\n",
       "</table>\n",
       "</div>"
      ],
      "text/plain": [
       "   order_id  user_id  order_number  order_dow  order_hour_of_day  \\\n",
       "0   1187899        1            11          4                  8   \n",
       "1   1187899        1            11          4                  8   \n",
       "2   1187899        1            11          4                  8   \n",
       "3   1187899        1            11          4                  8   \n",
       "4   1187899        1            11          4                  8   \n",
       "\n",
       "   days_since_prior_order  product_id  add_to_cart_order  reordered  \\\n",
       "0                    14.0       49235                 10          1   \n",
       "1                    14.0       46149                 11          1   \n",
       "2                    14.0         196                  1          1   \n",
       "3                    14.0       27845                  9          0   \n",
       "4                    14.0       38928                  3          1   \n",
       "\n",
       "         aisle              product_name  department  \n",
       "0        cream       Organic Half & Half  dairy eggs  \n",
       "1  soft drinks         Zero Calorie Cola   beverages  \n",
       "2  soft drinks                      Soda   beverages  \n",
       "3         milk        Organic Whole Milk  dairy eggs  \n",
       "4       yogurt  0% Greek Strained Yogurt  dairy eggs  "
      ]
     },
     "execution_count": 156,
     "metadata": {},
     "output_type": "execute_result"
    }
   ],
   "source": [
    "df.head()"
   ]
  },
  {
   "cell_type": "markdown",
   "id": "4daf6ed6",
   "metadata": {},
   "source": [
    "# Data Exploration"
   ]
  },
  {
   "cell_type": "code",
   "execution_count": 157,
   "id": "02110a75",
   "metadata": {},
   "outputs": [
    {
     "data": {
      "text/html": [
       "<div>\n",
       "<style scoped>\n",
       "    .dataframe tbody tr th:only-of-type {\n",
       "        vertical-align: middle;\n",
       "    }\n",
       "\n",
       "    .dataframe tbody tr th {\n",
       "        vertical-align: top;\n",
       "    }\n",
       "\n",
       "    .dataframe thead th {\n",
       "        text-align: right;\n",
       "    }\n",
       "</style>\n",
       "<table border=\"1\" class=\"dataframe\">\n",
       "  <thead>\n",
       "    <tr style=\"text-align: right;\">\n",
       "      <th></th>\n",
       "      <th>order_id</th>\n",
       "      <th>user_id</th>\n",
       "      <th>order_number</th>\n",
       "      <th>order_dow</th>\n",
       "      <th>order_hour_of_day</th>\n",
       "      <th>days_since_prior_order</th>\n",
       "      <th>product_id</th>\n",
       "      <th>add_to_cart_order</th>\n",
       "      <th>reordered</th>\n",
       "    </tr>\n",
       "  </thead>\n",
       "  <tbody>\n",
       "    <tr>\n",
       "      <th>count</th>\n",
       "      <td>1.384617e+06</td>\n",
       "      <td>1.384617e+06</td>\n",
       "      <td>1.384617e+06</td>\n",
       "      <td>1.384617e+06</td>\n",
       "      <td>1.384617e+06</td>\n",
       "      <td>1.384617e+06</td>\n",
       "      <td>1.384617e+06</td>\n",
       "      <td>1.384617e+06</td>\n",
       "      <td>1.384617e+06</td>\n",
       "    </tr>\n",
       "    <tr>\n",
       "      <th>mean</th>\n",
       "      <td>1.706298e+06</td>\n",
       "      <td>1.031128e+05</td>\n",
       "      <td>1.709141e+01</td>\n",
       "      <td>2.701392e+00</td>\n",
       "      <td>1.357759e+01</td>\n",
       "      <td>1.706613e+01</td>\n",
       "      <td>2.555624e+04</td>\n",
       "      <td>8.758044e+00</td>\n",
       "      <td>5.985944e-01</td>\n",
       "    </tr>\n",
       "    <tr>\n",
       "      <th>std</th>\n",
       "      <td>9.897326e+05</td>\n",
       "      <td>5.948715e+04</td>\n",
       "      <td>1.661404e+01</td>\n",
       "      <td>2.167646e+00</td>\n",
       "      <td>4.238458e+00</td>\n",
       "      <td>1.042642e+01</td>\n",
       "      <td>1.412127e+04</td>\n",
       "      <td>7.423936e+00</td>\n",
       "      <td>4.901829e-01</td>\n",
       "    </tr>\n",
       "    <tr>\n",
       "      <th>min</th>\n",
       "      <td>1.000000e+00</td>\n",
       "      <td>1.000000e+00</td>\n",
       "      <td>4.000000e+00</td>\n",
       "      <td>0.000000e+00</td>\n",
       "      <td>0.000000e+00</td>\n",
       "      <td>0.000000e+00</td>\n",
       "      <td>1.000000e+00</td>\n",
       "      <td>1.000000e+00</td>\n",
       "      <td>0.000000e+00</td>\n",
       "    </tr>\n",
       "    <tr>\n",
       "      <th>25%</th>\n",
       "      <td>8.433700e+05</td>\n",
       "      <td>5.173200e+04</td>\n",
       "      <td>6.000000e+00</td>\n",
       "      <td>1.000000e+00</td>\n",
       "      <td>1.000000e+01</td>\n",
       "      <td>7.000000e+00</td>\n",
       "      <td>1.338000e+04</td>\n",
       "      <td>3.000000e+00</td>\n",
       "      <td>0.000000e+00</td>\n",
       "    </tr>\n",
       "    <tr>\n",
       "      <th>50%</th>\n",
       "      <td>1.701880e+06</td>\n",
       "      <td>1.029330e+05</td>\n",
       "      <td>1.100000e+01</td>\n",
       "      <td>3.000000e+00</td>\n",
       "      <td>1.400000e+01</td>\n",
       "      <td>1.500000e+01</td>\n",
       "      <td>2.529800e+04</td>\n",
       "      <td>7.000000e+00</td>\n",
       "      <td>1.000000e+00</td>\n",
       "    </tr>\n",
       "    <tr>\n",
       "      <th>75%</th>\n",
       "      <td>2.568023e+06</td>\n",
       "      <td>1.549590e+05</td>\n",
       "      <td>2.100000e+01</td>\n",
       "      <td>5.000000e+00</td>\n",
       "      <td>1.700000e+01</td>\n",
       "      <td>3.000000e+01</td>\n",
       "      <td>3.794000e+04</td>\n",
       "      <td>1.200000e+01</td>\n",
       "      <td>1.000000e+00</td>\n",
       "    </tr>\n",
       "    <tr>\n",
       "      <th>max</th>\n",
       "      <td>3.421070e+06</td>\n",
       "      <td>2.062090e+05</td>\n",
       "      <td>1.000000e+02</td>\n",
       "      <td>6.000000e+00</td>\n",
       "      <td>2.300000e+01</td>\n",
       "      <td>3.000000e+01</td>\n",
       "      <td>4.968800e+04</td>\n",
       "      <td>8.000000e+01</td>\n",
       "      <td>1.000000e+00</td>\n",
       "    </tr>\n",
       "  </tbody>\n",
       "</table>\n",
       "</div>"
      ],
      "text/plain": [
       "           order_id       user_id  order_number     order_dow  \\\n",
       "count  1.384617e+06  1.384617e+06  1.384617e+06  1.384617e+06   \n",
       "mean   1.706298e+06  1.031128e+05  1.709141e+01  2.701392e+00   \n",
       "std    9.897326e+05  5.948715e+04  1.661404e+01  2.167646e+00   \n",
       "min    1.000000e+00  1.000000e+00  4.000000e+00  0.000000e+00   \n",
       "25%    8.433700e+05  5.173200e+04  6.000000e+00  1.000000e+00   \n",
       "50%    1.701880e+06  1.029330e+05  1.100000e+01  3.000000e+00   \n",
       "75%    2.568023e+06  1.549590e+05  2.100000e+01  5.000000e+00   \n",
       "max    3.421070e+06  2.062090e+05  1.000000e+02  6.000000e+00   \n",
       "\n",
       "       order_hour_of_day  days_since_prior_order    product_id  \\\n",
       "count       1.384617e+06            1.384617e+06  1.384617e+06   \n",
       "mean        1.357759e+01            1.706613e+01  2.555624e+04   \n",
       "std         4.238458e+00            1.042642e+01  1.412127e+04   \n",
       "min         0.000000e+00            0.000000e+00  1.000000e+00   \n",
       "25%         1.000000e+01            7.000000e+00  1.338000e+04   \n",
       "50%         1.400000e+01            1.500000e+01  2.529800e+04   \n",
       "75%         1.700000e+01            3.000000e+01  3.794000e+04   \n",
       "max         2.300000e+01            3.000000e+01  4.968800e+04   \n",
       "\n",
       "       add_to_cart_order     reordered  \n",
       "count       1.384617e+06  1.384617e+06  \n",
       "mean        8.758044e+00  5.985944e-01  \n",
       "std         7.423936e+00  4.901829e-01  \n",
       "min         1.000000e+00  0.000000e+00  \n",
       "25%         3.000000e+00  0.000000e+00  \n",
       "50%         7.000000e+00  1.000000e+00  \n",
       "75%         1.200000e+01  1.000000e+00  \n",
       "max         8.000000e+01  1.000000e+00  "
      ]
     },
     "metadata": {},
     "output_type": "display_data"
    }
   ],
   "source": [
    "display(df.describe())"
   ]
  },
  {
   "cell_type": "code",
   "execution_count": 158,
   "id": "4fb7c300",
   "metadata": {},
   "outputs": [
    {
     "data": {
      "text/plain": [
       "order_id                  131209\n",
       "user_id                   131209\n",
       "order_number                  97\n",
       "order_dow                      7\n",
       "order_hour_of_day             24\n",
       "days_since_prior_order        31\n",
       "product_id                 39123\n",
       "add_to_cart_order             80\n",
       "reordered                      2\n",
       "aisle                        134\n",
       "product_name               39123\n",
       "department                    21\n",
       "dtype: int64"
      ]
     },
     "execution_count": 158,
     "metadata": {},
     "output_type": "execute_result"
    }
   ],
   "source": [
    "df.nunique()"
   ]
  },
  {
   "cell_type": "markdown",
   "id": "85d72434",
   "metadata": {},
   "source": [
    "##### Checking for Null Values"
   ]
  },
  {
   "cell_type": "code",
   "execution_count": 159,
   "id": "cff279e7",
   "metadata": {},
   "outputs": [
    {
     "name": "stdout",
     "output_type": "stream",
     "text": [
      "order_id                  0\n",
      "user_id                   0\n",
      "order_number              0\n",
      "order_dow                 0\n",
      "order_hour_of_day         0\n",
      "days_since_prior_order    0\n",
      "product_id                0\n",
      "add_to_cart_order         0\n",
      "reordered                 0\n",
      "aisle                     0\n",
      "product_name              0\n",
      "department                0\n",
      "dtype: int64\n",
      "The data doesn't have any null values\n"
     ]
    }
   ],
   "source": [
    "print(df.isnull().sum())\n",
    "print(\"The data doesn't have any null values\")"
   ]
  },
  {
   "cell_type": "code",
   "execution_count": 160,
   "id": "a9ae7ac5",
   "metadata": {},
   "outputs": [
    {
     "data": {
      "text/html": [
       "<div>\n",
       "<style scoped>\n",
       "    .dataframe tbody tr th:only-of-type {\n",
       "        vertical-align: middle;\n",
       "    }\n",
       "\n",
       "    .dataframe tbody tr th {\n",
       "        vertical-align: top;\n",
       "    }\n",
       "\n",
       "    .dataframe thead th {\n",
       "        text-align: right;\n",
       "    }\n",
       "</style>\n",
       "<table border=\"1\" class=\"dataframe\">\n",
       "  <thead>\n",
       "    <tr style=\"text-align: right;\">\n",
       "      <th></th>\n",
       "      <th>order_id</th>\n",
       "      <th>user_id</th>\n",
       "      <th>order_number</th>\n",
       "      <th>order_dow</th>\n",
       "      <th>order_hour_of_day</th>\n",
       "      <th>days_since_prior_order</th>\n",
       "      <th>product_id</th>\n",
       "      <th>add_to_cart_order</th>\n",
       "      <th>reordered</th>\n",
       "    </tr>\n",
       "  </thead>\n",
       "  <tbody>\n",
       "    <tr>\n",
       "      <th>order_id</th>\n",
       "      <td>1.000000</td>\n",
       "      <td>-0.000867</td>\n",
       "      <td>0.001522</td>\n",
       "      <td>0.001090</td>\n",
       "      <td>-0.004422</td>\n",
       "      <td>0.002708</td>\n",
       "      <td>-0.000545</td>\n",
       "      <td>0.001916</td>\n",
       "      <td>0.001418</td>\n",
       "    </tr>\n",
       "    <tr>\n",
       "      <th>user_id</th>\n",
       "      <td>-0.000867</td>\n",
       "      <td>1.000000</td>\n",
       "      <td>-0.003715</td>\n",
       "      <td>-0.006746</td>\n",
       "      <td>-0.001239</td>\n",
       "      <td>0.003854</td>\n",
       "      <td>-0.001014</td>\n",
       "      <td>0.000739</td>\n",
       "      <td>-0.004316</td>\n",
       "    </tr>\n",
       "    <tr>\n",
       "      <th>order_number</th>\n",
       "      <td>0.001522</td>\n",
       "      <td>-0.003715</td>\n",
       "      <td>1.000000</td>\n",
       "      <td>0.024500</td>\n",
       "      <td>-0.026567</td>\n",
       "      <td>-0.403861</td>\n",
       "      <td>-0.001463</td>\n",
       "      <td>0.014332</td>\n",
       "      <td>0.223947</td>\n",
       "    </tr>\n",
       "    <tr>\n",
       "      <th>order_dow</th>\n",
       "      <td>0.001090</td>\n",
       "      <td>-0.006746</td>\n",
       "      <td>0.024500</td>\n",
       "      <td>1.000000</td>\n",
       "      <td>0.005910</td>\n",
       "      <td>-0.026765</td>\n",
       "      <td>-0.003597</td>\n",
       "      <td>-0.019353</td>\n",
       "      <td>-0.006714</td>\n",
       "    </tr>\n",
       "    <tr>\n",
       "      <th>order_hour_of_day</th>\n",
       "      <td>-0.004422</td>\n",
       "      <td>-0.001239</td>\n",
       "      <td>-0.026567</td>\n",
       "      <td>0.005910</td>\n",
       "      <td>1.000000</td>\n",
       "      <td>0.005184</td>\n",
       "      <td>0.001829</td>\n",
       "      <td>-0.008905</td>\n",
       "      <td>-0.017840</td>\n",
       "    </tr>\n",
       "    <tr>\n",
       "      <th>days_since_prior_order</th>\n",
       "      <td>0.002708</td>\n",
       "      <td>0.003854</td>\n",
       "      <td>-0.403861</td>\n",
       "      <td>-0.026765</td>\n",
       "      <td>0.005184</td>\n",
       "      <td>1.000000</td>\n",
       "      <td>0.001036</td>\n",
       "      <td>0.017283</td>\n",
       "      <td>-0.160152</td>\n",
       "    </tr>\n",
       "    <tr>\n",
       "      <th>product_id</th>\n",
       "      <td>-0.000545</td>\n",
       "      <td>-0.001014</td>\n",
       "      <td>-0.001463</td>\n",
       "      <td>-0.003597</td>\n",
       "      <td>0.001829</td>\n",
       "      <td>0.001036</td>\n",
       "      <td>1.000000</td>\n",
       "      <td>0.003128</td>\n",
       "      <td>0.006560</td>\n",
       "    </tr>\n",
       "    <tr>\n",
       "      <th>add_to_cart_order</th>\n",
       "      <td>0.001916</td>\n",
       "      <td>0.000739</td>\n",
       "      <td>0.014332</td>\n",
       "      <td>-0.019353</td>\n",
       "      <td>-0.008905</td>\n",
       "      <td>0.017283</td>\n",
       "      <td>0.003128</td>\n",
       "      <td>1.000000</td>\n",
       "      <td>-0.146393</td>\n",
       "    </tr>\n",
       "    <tr>\n",
       "      <th>reordered</th>\n",
       "      <td>0.001418</td>\n",
       "      <td>-0.004316</td>\n",
       "      <td>0.223947</td>\n",
       "      <td>-0.006714</td>\n",
       "      <td>-0.017840</td>\n",
       "      <td>-0.160152</td>\n",
       "      <td>0.006560</td>\n",
       "      <td>-0.146393</td>\n",
       "      <td>1.000000</td>\n",
       "    </tr>\n",
       "  </tbody>\n",
       "</table>\n",
       "</div>"
      ],
      "text/plain": [
       "                        order_id   user_id  order_number  order_dow  \\\n",
       "order_id                1.000000 -0.000867      0.001522   0.001090   \n",
       "user_id                -0.000867  1.000000     -0.003715  -0.006746   \n",
       "order_number            0.001522 -0.003715      1.000000   0.024500   \n",
       "order_dow               0.001090 -0.006746      0.024500   1.000000   \n",
       "order_hour_of_day      -0.004422 -0.001239     -0.026567   0.005910   \n",
       "days_since_prior_order  0.002708  0.003854     -0.403861  -0.026765   \n",
       "product_id             -0.000545 -0.001014     -0.001463  -0.003597   \n",
       "add_to_cart_order       0.001916  0.000739      0.014332  -0.019353   \n",
       "reordered               0.001418 -0.004316      0.223947  -0.006714   \n",
       "\n",
       "                        order_hour_of_day  days_since_prior_order  product_id  \\\n",
       "order_id                        -0.004422                0.002708   -0.000545   \n",
       "user_id                         -0.001239                0.003854   -0.001014   \n",
       "order_number                    -0.026567               -0.403861   -0.001463   \n",
       "order_dow                        0.005910               -0.026765   -0.003597   \n",
       "order_hour_of_day                1.000000                0.005184    0.001829   \n",
       "days_since_prior_order           0.005184                1.000000    0.001036   \n",
       "product_id                       0.001829                0.001036    1.000000   \n",
       "add_to_cart_order               -0.008905                0.017283    0.003128   \n",
       "reordered                       -0.017840               -0.160152    0.006560   \n",
       "\n",
       "                        add_to_cart_order  reordered  \n",
       "order_id                         0.001916   0.001418  \n",
       "user_id                          0.000739  -0.004316  \n",
       "order_number                     0.014332   0.223947  \n",
       "order_dow                       -0.019353  -0.006714  \n",
       "order_hour_of_day               -0.008905  -0.017840  \n",
       "days_since_prior_order           0.017283  -0.160152  \n",
       "product_id                       0.003128   0.006560  \n",
       "add_to_cart_order                1.000000  -0.146393  \n",
       "reordered                       -0.146393   1.000000  "
      ]
     },
     "execution_count": 160,
     "metadata": {},
     "output_type": "execute_result"
    }
   ],
   "source": [
    "df.corr() #checking correlation between the numerical predictors"
   ]
  },
  {
   "cell_type": "code",
   "execution_count": 161,
   "id": "70afa64d",
   "metadata": {},
   "outputs": [
    {
     "data": {
      "text/plain": [
       "<Figure size 3240x1800 with 0 Axes>"
      ]
     },
     "execution_count": 161,
     "metadata": {},
     "output_type": "execute_result"
    },
    {
     "data": {
      "image/png": "[encoded data removed]",
      "text/plain": [
       "<Figure size 432x288 with 2 Axes>"
      ]
     },
     "metadata": {
      "needs_background": "light"
     },
     "output_type": "display_data"
    },
    {
     "data": {
      "text/plain": [
       "<Figure size 3240x1800 with 0 Axes>"
      ]
     },
     "metadata": {},
     "output_type": "display_data"
    }
   ],
   "source": [
    "corrMatrix = df.corr()\n",
    "sns.heatmap(corrMatrix, annot=True )\n",
    "plt.figure(figsize=(45,25))"
   ]
  },
  {
   "cell_type": "markdown",
   "id": "2014ccf5",
   "metadata": {},
   "source": [
    "#### Top Ordered Products"
   ]
  },
  {
   "cell_type": "code",
   "execution_count": 162,
   "id": "ef84b791",
   "metadata": {},
   "outputs": [
    {
     "data": {
      "text/html": [
       "<div>\n",
       "<style scoped>\n",
       "    .dataframe tbody tr th:only-of-type {\n",
       "        vertical-align: middle;\n",
       "    }\n",
       "\n",
       "    .dataframe tbody tr th {\n",
       "        vertical-align: top;\n",
       "    }\n",
       "\n",
       "    .dataframe thead th {\n",
       "        text-align: right;\n",
       "    }\n",
       "</style>\n",
       "<table border=\"1\" class=\"dataframe\">\n",
       "  <thead>\n",
       "    <tr style=\"text-align: right;\">\n",
       "      <th></th>\n",
       "      <th>index</th>\n",
       "      <th>product_name</th>\n",
       "    </tr>\n",
       "  </thead>\n",
       "  <tbody>\n",
       "    <tr>\n",
       "      <th>0</th>\n",
       "      <td>Banana</td>\n",
       "      <td>18726</td>\n",
       "    </tr>\n",
       "    <tr>\n",
       "      <th>1</th>\n",
       "      <td>Bag of Organic Bananas</td>\n",
       "      <td>15480</td>\n",
       "    </tr>\n",
       "    <tr>\n",
       "      <th>2</th>\n",
       "      <td>Organic Strawberries</td>\n",
       "      <td>10894</td>\n",
       "    </tr>\n",
       "    <tr>\n",
       "      <th>3</th>\n",
       "      <td>Organic Baby Spinach</td>\n",
       "      <td>9784</td>\n",
       "    </tr>\n",
       "    <tr>\n",
       "      <th>4</th>\n",
       "      <td>Large Lemon</td>\n",
       "      <td>8135</td>\n",
       "    </tr>\n",
       "    <tr>\n",
       "      <th>5</th>\n",
       "      <td>Organic Avocado</td>\n",
       "      <td>7409</td>\n",
       "    </tr>\n",
       "    <tr>\n",
       "      <th>6</th>\n",
       "      <td>Organic Hass Avocado</td>\n",
       "      <td>7293</td>\n",
       "    </tr>\n",
       "    <tr>\n",
       "      <th>7</th>\n",
       "      <td>Strawberries</td>\n",
       "      <td>6494</td>\n",
       "    </tr>\n",
       "    <tr>\n",
       "      <th>8</th>\n",
       "      <td>Limes</td>\n",
       "      <td>6033</td>\n",
       "    </tr>\n",
       "    <tr>\n",
       "      <th>9</th>\n",
       "      <td>Organic Raspberries</td>\n",
       "      <td>5546</td>\n",
       "    </tr>\n",
       "  </tbody>\n",
       "</table>\n",
       "</div>"
      ],
      "text/plain": [
       "                    index  product_name\n",
       "0                  Banana         18726\n",
       "1  Bag of Organic Bananas         15480\n",
       "2    Organic Strawberries         10894\n",
       "3    Organic Baby Spinach          9784\n",
       "4             Large Lemon          8135\n",
       "5         Organic Avocado          7409\n",
       "6    Organic Hass Avocado          7293\n",
       "7            Strawberries          6494\n",
       "8                   Limes          6033\n",
       "9     Organic Raspberries          5546"
      ]
     },
     "execution_count": 162,
     "metadata": {},
     "output_type": "execute_result"
    }
   ],
   "source": [
    "df.product_name.value_counts(ascending=False).reset_index().head(10)"
   ]
  },
  {
   "cell_type": "code",
   "execution_count": 163,
   "id": "c97d199c",
   "metadata": {},
   "outputs": [
    {
     "name": "stderr",
     "output_type": "stream",
     "text": [
      "/Users/navaroohi/opt/anaconda3/lib/python3.8/site-packages/seaborn/_decorators.py:36: FutureWarning: Pass the following variable as a keyword arg: x. From version 0.12, the only valid positional argument will be `data`, and passing other arguments without an explicit keyword will result in an error or misinterpretation.\n",
      "  warnings.warn(\n"
     ]
    },
    {
     "data": {
      "image/png": "[encoded data removed]",
      "text/plain": [
       "<Figure size 432x288 with 1 Axes>"
      ]
     },
     "metadata": {
      "needs_background": "light"
     },
     "output_type": "display_data"
    }
   ],
   "source": [
    "sns.countplot(df.product_name, order=df.product_name.value_counts().index[:10])\n",
    "plt.title('Best Seller Products')\n",
    "plt.xticks(rotation=80)\n",
    "plt.show()"
   ]
  },
  {
   "cell_type": "markdown",
   "id": "488f95ed",
   "metadata": {},
   "source": [
    "#### Top 10 Seller Departments"
   ]
  },
  {
   "cell_type": "code",
   "execution_count": 164,
   "id": "29a5403e",
   "metadata": {},
   "outputs": [
    {
     "data": {
      "text/html": [
       "<div>\n",
       "<style scoped>\n",
       "    .dataframe tbody tr th:only-of-type {\n",
       "        vertical-align: middle;\n",
       "    }\n",
       "\n",
       "    .dataframe tbody tr th {\n",
       "        vertical-align: top;\n",
       "    }\n",
       "\n",
       "    .dataframe thead th {\n",
       "        text-align: right;\n",
       "    }\n",
       "</style>\n",
       "<table border=\"1\" class=\"dataframe\">\n",
       "  <thead>\n",
       "    <tr style=\"text-align: right;\">\n",
       "      <th></th>\n",
       "      <th>index</th>\n",
       "      <th>department</th>\n",
       "    </tr>\n",
       "  </thead>\n",
       "  <tbody>\n",
       "    <tr>\n",
       "      <th>0</th>\n",
       "      <td>produce</td>\n",
       "      <td>409087</td>\n",
       "    </tr>\n",
       "    <tr>\n",
       "      <th>1</th>\n",
       "      <td>dairy eggs</td>\n",
       "      <td>217051</td>\n",
       "    </tr>\n",
       "    <tr>\n",
       "      <th>2</th>\n",
       "      <td>snacks</td>\n",
       "      <td>118862</td>\n",
       "    </tr>\n",
       "    <tr>\n",
       "      <th>3</th>\n",
       "      <td>beverages</td>\n",
       "      <td>114046</td>\n",
       "    </tr>\n",
       "    <tr>\n",
       "      <th>4</th>\n",
       "      <td>frozen</td>\n",
       "      <td>100426</td>\n",
       "    </tr>\n",
       "    <tr>\n",
       "      <th>5</th>\n",
       "      <td>pantry</td>\n",
       "      <td>81242</td>\n",
       "    </tr>\n",
       "    <tr>\n",
       "      <th>6</th>\n",
       "      <td>bakery</td>\n",
       "      <td>48394</td>\n",
       "    </tr>\n",
       "    <tr>\n",
       "      <th>7</th>\n",
       "      <td>canned goods</td>\n",
       "      <td>46799</td>\n",
       "    </tr>\n",
       "    <tr>\n",
       "      <th>8</th>\n",
       "      <td>deli</td>\n",
       "      <td>44291</td>\n",
       "    </tr>\n",
       "    <tr>\n",
       "      <th>9</th>\n",
       "      <td>dry goods pasta</td>\n",
       "      <td>38713</td>\n",
       "    </tr>\n",
       "  </tbody>\n",
       "</table>\n",
       "</div>"
      ],
      "text/plain": [
       "             index  department\n",
       "0          produce      409087\n",
       "1       dairy eggs      217051\n",
       "2           snacks      118862\n",
       "3        beverages      114046\n",
       "4           frozen      100426\n",
       "5           pantry       81242\n",
       "6           bakery       48394\n",
       "7     canned goods       46799\n",
       "8             deli       44291\n",
       "9  dry goods pasta       38713"
      ]
     },
     "execution_count": 164,
     "metadata": {},
     "output_type": "execute_result"
    }
   ],
   "source": [
    "df.department.value_counts(ascending=False).reset_index().head(10)"
   ]
  },
  {
   "cell_type": "code",
   "execution_count": 165,
   "id": "50db3e9f",
   "metadata": {},
   "outputs": [
    {
     "name": "stderr",
     "output_type": "stream",
     "text": [
      "/Users/navaroohi/opt/anaconda3/lib/python3.8/site-packages/seaborn/_decorators.py:36: FutureWarning: Pass the following variable as a keyword arg: x. From version 0.12, the only valid positional argument will be `data`, and passing other arguments without an explicit keyword will result in an error or misinterpretation.\n",
      "  warnings.warn(\n"
     ]
    },
    {
     "data": {
      "image/png": "[encoded data removed]",
      "text/plain": [
       "<Figure size 432x288 with 1 Axes>"
      ]
     },
     "metadata": {
      "needs_background": "light"
     },
     "output_type": "display_data"
    }
   ],
   "source": [
    "sns.countplot(df.department, order=df.department.value_counts().index[:10])\n",
    "plt.title('Top 10 Seller Departments')\n",
    "plt.xticks(rotation=80)\n",
    "plt.show()"
   ]
  },
  {
   "cell_type": "markdown",
   "id": "b04e5839",
   "metadata": {},
   "source": [
    "### Aisles with highest sells"
   ]
  },
  {
   "cell_type": "code",
   "execution_count": 166,
   "id": "c72c0712",
   "metadata": {},
   "outputs": [
    {
     "name": "stderr",
     "output_type": "stream",
     "text": [
      "/Users/navaroohi/opt/anaconda3/lib/python3.8/site-packages/seaborn/_decorators.py:36: FutureWarning: Pass the following variable as a keyword arg: x. From version 0.12, the only valid positional argument will be `data`, and passing other arguments without an explicit keyword will result in an error or misinterpretation.\n",
      "  warnings.warn(\n"
     ]
    },
    {
     "data": {
      "image/png": "[encoded data removed]",
      "text/plain": [
       "<Figure size 432x288 with 1 Axes>"
      ]
     },
     "metadata": {
      "needs_background": "light"
     },
     "output_type": "display_data"
    }
   ],
   "source": [
    "sns.countplot(df.aisle, order=df.aisle.value_counts().index[:15])\n",
    "plt.title('')\n",
    "plt.xticks(rotation=90)\n",
    "plt.show()"
   ]
  },
  {
   "cell_type": "markdown",
   "id": "bd581b8e",
   "metadata": {},
   "source": [
    "#### Busiest hours of the day"
   ]
  },
  {
   "cell_type": "code",
   "execution_count": 167,
   "id": "0ab7a13e",
   "metadata": {},
   "outputs": [
    {
     "name": "stderr",
     "output_type": "stream",
     "text": [
      "/Users/navaroohi/opt/anaconda3/lib/python3.8/site-packages/seaborn/_decorators.py:36: FutureWarning: Pass the following variable as a keyword arg: x. From version 0.12, the only valid positional argument will be `data`, and passing other arguments without an explicit keyword will result in an error or misinterpretation.\n",
      "  warnings.warn(\n"
     ]
    },
    {
     "data": {
      "image/png": "[encoded data removed]",
      "text/plain": [
       "<Figure size 432x288 with 1 Axes>"
      ]
     },
     "metadata": {
      "needs_background": "light"
     },
     "output_type": "display_data"
    }
   ],
   "source": [
    "sns.countplot(df.order_hour_of_day, order=df.order_hour_of_day.value_counts().index[:24])\n",
    "plt.title('')\n",
    "plt.xticks(rotation=90)\n",
    "plt.show()"
   ]
  },
  {
   "cell_type": "markdown",
   "id": "fa40028b",
   "metadata": {},
   "source": [
    "#### Busiest Days of the Week "
   ]
  },
  {
   "cell_type": "code",
   "execution_count": null,
   "id": "42f04259",
   "metadata": {},
   "outputs": [],
   "source": []
  },
  {
   "cell_type": "code",
   "execution_count": 168,
   "id": "f545b958",
   "metadata": {},
   "outputs": [
    {
     "name": "stderr",
     "output_type": "stream",
     "text": [
      "/Users/navaroohi/opt/anaconda3/lib/python3.8/site-packages/seaborn/_decorators.py:36: FutureWarning: Pass the following variable as a keyword arg: x. From version 0.12, the only valid positional argument will be `data`, and passing other arguments without an explicit keyword will result in an error or misinterpretation.\n",
      "  warnings.warn(\n"
     ]
    },
    {
     "data": {
      "image/png": "[encoded data removed]",
      "text/plain": [
       "<Figure size 432x288 with 1 Axes>"
      ]
     },
     "metadata": {
      "needs_background": "light"
     },
     "output_type": "display_data"
    }
   ],
   "source": [
    "sns.countplot(df.order_dow, order=df.order_dow.value_counts().index[:24])\n",
    "plt.title('')\n",
    "plt.xticks(rotation=90)\n",
    "plt.show()"
   ]
  },
  {
   "cell_type": "code",
   "execution_count": 169,
   "id": "778deecc",
   "metadata": {},
   "outputs": [
    {
     "data": {
      "text/html": [
       "<div>\n",
       "<style scoped>\n",
       "    .dataframe tbody tr th:only-of-type {\n",
       "        vertical-align: middle;\n",
       "    }\n",
       "\n",
       "    .dataframe tbody tr th {\n",
       "        vertical-align: top;\n",
       "    }\n",
       "\n",
       "    .dataframe thead th {\n",
       "        text-align: right;\n",
       "    }\n",
       "</style>\n",
       "<table border=\"1\" class=\"dataframe\">\n",
       "  <thead>\n",
       "    <tr style=\"text-align: right;\">\n",
       "      <th></th>\n",
       "      <th>order_dow</th>\n",
       "      <th>order_id</th>\n",
       "      <th>percentage</th>\n",
       "    </tr>\n",
       "  </thead>\n",
       "  <tbody>\n",
       "    <tr>\n",
       "      <th>0</th>\n",
       "      <td>0</td>\n",
       "      <td>324026</td>\n",
       "      <td>0.234019</td>\n",
       "    </tr>\n",
       "    <tr>\n",
       "      <th>1</th>\n",
       "      <td>1</td>\n",
       "      <td>205978</td>\n",
       "      <td>0.148762</td>\n",
       "    </tr>\n",
       "    <tr>\n",
       "      <th>2</th>\n",
       "      <td>2</td>\n",
       "      <td>160562</td>\n",
       "      <td>0.115961</td>\n",
       "    </tr>\n",
       "    <tr>\n",
       "      <th>3</th>\n",
       "      <td>3</td>\n",
       "      <td>154381</td>\n",
       "      <td>0.111497</td>\n",
       "    </tr>\n",
       "    <tr>\n",
       "      <th>4</th>\n",
       "      <td>4</td>\n",
       "      <td>155481</td>\n",
       "      <td>0.112292</td>\n",
       "    </tr>\n",
       "  </tbody>\n",
       "</table>\n",
       "</div>"
      ],
      "text/plain": [
       "   order_dow  order_id  percentage\n",
       "0          0    324026    0.234019\n",
       "1          1    205978    0.148762\n",
       "2          2    160562    0.115961\n",
       "3          3    154381    0.111497\n",
       "4          4    155481    0.112292"
      ]
     },
     "execution_count": 169,
     "metadata": {},
     "output_type": "execute_result"
    }
   ],
   "source": [
    "percentage_of_orders=df.groupby(\"order_dow\")[\"order_id\"].count().reset_index()\n",
    "percentage_of_orders[\"percentage\"]=percentage_of_orders[\"order_id\"]/percentage_of_orders[\"order_id\"].sum()\n",
    "percentage_of_orders.head()"
   ]
  },
  {
   "cell_type": "markdown",
   "id": "bbdefa04",
   "metadata": {},
   "source": [
    "####  Days Since Prior Order"
   ]
  },
  {
   "cell_type": "code",
   "execution_count": 170,
   "id": "45353a2b",
   "metadata": {},
   "outputs": [
    {
     "data": {
      "text/plain": [
       "<AxesSubplot:>"
      ]
     },
     "execution_count": 170,
     "metadata": {},
     "output_type": "execute_result"
    },
    {
     "data": {
      "image/png": "[encoded data removed]",
      "text/plain": [
       "<Figure size 432x288 with 1 Axes>"
      ]
     },
     "metadata": {
      "needs_background": "light"
     },
     "output_type": "display_data"
    }
   ],
   "source": [
    "df.days_since_prior_order.value_counts().sort_index().plot()\n"
   ]
  },
  {
   "cell_type": "markdown",
   "id": "160f519e",
   "metadata": {},
   "source": [
    "Most orderes are being ordered after 6-7 days. It appears to peak by 14 days and 21 days which could indicate the weekly purchase habit of custoemrs."
   ]
  },
  {
   "cell_type": "markdown",
   "id": "2355cb38",
   "metadata": {},
   "source": [
    "#### orders per customer"
   ]
  },
  {
   "cell_type": "code",
   "execution_count": 171,
   "id": "c6710c46",
   "metadata": {},
   "outputs": [
    {
     "data": {
      "text/html": [
       "<div>\n",
       "<style scoped>\n",
       "    .dataframe tbody tr th:only-of-type {\n",
       "        vertical-align: middle;\n",
       "    }\n",
       "\n",
       "    .dataframe tbody tr th {\n",
       "        vertical-align: top;\n",
       "    }\n",
       "\n",
       "    .dataframe thead th {\n",
       "        text-align: right;\n",
       "    }\n",
       "</style>\n",
       "<table border=\"1\" class=\"dataframe\">\n",
       "  <thead>\n",
       "    <tr style=\"text-align: right;\">\n",
       "      <th></th>\n",
       "      <th>user_id</th>\n",
       "      <th>order_number</th>\n",
       "    </tr>\n",
       "  </thead>\n",
       "  <tbody>\n",
       "    <tr>\n",
       "      <th>0</th>\n",
       "      <td>1</td>\n",
       "      <td>11</td>\n",
       "    </tr>\n",
       "    <tr>\n",
       "      <th>1</th>\n",
       "      <td>2</td>\n",
       "      <td>15</td>\n",
       "    </tr>\n",
       "    <tr>\n",
       "      <th>2</th>\n",
       "      <td>3</td>\n",
       "      <td>13</td>\n",
       "    </tr>\n",
       "    <tr>\n",
       "      <th>3</th>\n",
       "      <td>4</td>\n",
       "      <td>6</td>\n",
       "    </tr>\n",
       "    <tr>\n",
       "      <th>4</th>\n",
       "      <td>5</td>\n",
       "      <td>5</td>\n",
       "    </tr>\n",
       "    <tr>\n",
       "      <th>5</th>\n",
       "      <td>6</td>\n",
       "      <td>4</td>\n",
       "    </tr>\n",
       "    <tr>\n",
       "      <th>6</th>\n",
       "      <td>7</td>\n",
       "      <td>21</td>\n",
       "    </tr>\n",
       "    <tr>\n",
       "      <th>7</th>\n",
       "      <td>8</td>\n",
       "      <td>4</td>\n",
       "    </tr>\n",
       "    <tr>\n",
       "      <th>8</th>\n",
       "      <td>9</td>\n",
       "      <td>4</td>\n",
       "    </tr>\n",
       "    <tr>\n",
       "      <th>9</th>\n",
       "      <td>10</td>\n",
       "      <td>6</td>\n",
       "    </tr>\n",
       "    <tr>\n",
       "      <th>10</th>\n",
       "      <td>11</td>\n",
       "      <td>8</td>\n",
       "    </tr>\n",
       "    <tr>\n",
       "      <th>11</th>\n",
       "      <td>12</td>\n",
       "      <td>6</td>\n",
       "    </tr>\n",
       "    <tr>\n",
       "      <th>12</th>\n",
       "      <td>13</td>\n",
       "      <td>13</td>\n",
       "    </tr>\n",
       "    <tr>\n",
       "      <th>13</th>\n",
       "      <td>14</td>\n",
       "      <td>14</td>\n",
       "    </tr>\n",
       "    <tr>\n",
       "      <th>14</th>\n",
       "      <td>15</td>\n",
       "      <td>23</td>\n",
       "    </tr>\n",
       "  </tbody>\n",
       "</table>\n",
       "</div>"
      ],
      "text/plain": [
       "    user_id  order_number\n",
       "0         1            11\n",
       "1         2            15\n",
       "2         3            13\n",
       "3         4             6\n",
       "4         5             5\n",
       "5         6             4\n",
       "6         7            21\n",
       "7         8             4\n",
       "8         9             4\n",
       "9        10             6\n",
       "10       11             8\n",
       "11       12             6\n",
       "12       13            13\n",
       "13       14            14\n",
       "14       15            23"
      ]
     },
     "execution_count": 171,
     "metadata": {},
     "output_type": "execute_result"
    }
   ],
   "source": [
    "\n",
    "orders_per_customer=orders.groupby(\"user_id\")[\"order_number\"].max().reset_index()\n",
    "orders_per_customer.head(15)"
   ]
  },
  {
   "cell_type": "code",
   "execution_count": 172,
   "id": "035f5caf",
   "metadata": {},
   "outputs": [
    {
     "name": "stderr",
     "output_type": "stream",
     "text": [
      "/Users/navaroohi/opt/anaconda3/lib/python3.8/site-packages/seaborn/_decorators.py:36: FutureWarning: Pass the following variable as a keyword arg: x. From version 0.12, the only valid positional argument will be `data`, and passing other arguments without an explicit keyword will result in an error or misinterpretation.\n",
      "  warnings.warn(\n"
     ]
    },
    {
     "data": {
      "text/plain": [
       "Text(0, 0.5, 'Number of Customers')"
      ]
     },
     "execution_count": 172,
     "metadata": {},
     "output_type": "execute_result"
    },
    {
     "data": {
      "image/png": "[encoded data removed]",
      "text/plain": [
       "<Figure size 1800x1080 with 1 Axes>"
      ]
     },
     "metadata": {
      "needs_background": "light"
     },
     "output_type": "display_data"
    }
   ],
   "source": [
    "plt.figure(figsize=(25,15))\n",
    "sns.countplot(orders_per_customer[\"order_number\"])\n",
    "plt.title(\"Number of Orders Vs Number of Customer Makes These Orders\")\n",
    "plt.xlabel(\"Number of Orders By Customers\")\n",
    "plt.ylabel(\"Number of Customers\")\n"
   ]
  },
  {
   "cell_type": "markdown",
   "id": "6c381c5e",
   "metadata": {},
   "source": [
    "We can see that  23986 customers made only 4 orders, 19590 customers only made 5 orders and so on... As the number of orders made by customers goes up, the number of customers that makes those orders goes down. Majority of the customers make 4 to 12 orders. If business finds way to increase the amount of orders from repeat customers, it can increase the revenue."
   ]
  },
  {
   "cell_type": "markdown",
   "id": "71f90739",
   "metadata": {},
   "source": [
    "#### The distribution of department categories across reordered column"
   ]
  },
  {
   "cell_type": "code",
   "execution_count": 173,
   "id": "5c5b80fa",
   "metadata": {},
   "outputs": [
    {
     "data": {
      "image/png": "[encoded data removed]",
      "text/plain": [
       "<Figure size 720x504 with 1 Axes>"
      ]
     },
     "metadata": {
      "needs_background": "light"
     },
     "output_type": "display_data"
    }
   ],
   "source": [
    "\n",
    "\n",
    "plt.figure(figsize=(10,7))\n",
    "sns.countplot(data=df,\n",
    "            x=\"reordered\",\n",
    "         \n",
    "            hue=\"department\"\n",
    "           \n",
    "            \n",
    "           )\n",
    "\n",
    "plt.title(\"The Distribution of Department Categories Across Reordered Column\")\n",
    "plt.show()"
   ]
  },
  {
   "cell_type": "markdown",
   "id": "581a1fc5",
   "metadata": {},
   "source": [
    "It appears that we have imbalance issue in our reordered column, we would have to impelemt balancing which will be done in data preprocessing section.\n"
   ]
  },
  {
   "cell_type": "markdown",
   "id": "f0a58c04",
   "metadata": {},
   "source": [
    "## Data Cleaning and Data Processing"
   ]
  },
  {
   "cell_type": "markdown",
   "id": "b997a1e5",
   "metadata": {},
   "source": [
    "#### Detecting duplicates and removing them "
   ]
  },
  {
   "cell_type": "code",
   "execution_count": 174,
   "id": "7173786d",
   "metadata": {},
   "outputs": [
    {
     "name": "stdout",
     "output_type": "stream",
     "text": [
      "Duplicate Rows :\n"
     ]
    },
    {
     "data": {
      "text/html": [
       "<div>\n",
       "<style scoped>\n",
       "    .dataframe tbody tr th:only-of-type {\n",
       "        vertical-align: middle;\n",
       "    }\n",
       "\n",
       "    .dataframe tbody tr th {\n",
       "        vertical-align: top;\n",
       "    }\n",
       "\n",
       "    .dataframe thead th {\n",
       "        text-align: right;\n",
       "    }\n",
       "</style>\n",
       "<table border=\"1\" class=\"dataframe\">\n",
       "  <thead>\n",
       "    <tr style=\"text-align: right;\">\n",
       "      <th></th>\n",
       "      <th>order_id</th>\n",
       "      <th>user_id</th>\n",
       "      <th>order_number</th>\n",
       "      <th>order_dow</th>\n",
       "      <th>order_hour_of_day</th>\n",
       "      <th>days_since_prior_order</th>\n",
       "      <th>product_id</th>\n",
       "      <th>add_to_cart_order</th>\n",
       "      <th>reordered</th>\n",
       "      <th>aisle</th>\n",
       "      <th>product_name</th>\n",
       "      <th>department</th>\n",
       "    </tr>\n",
       "  </thead>\n",
       "  <tbody>\n",
       "  </tbody>\n",
       "</table>\n",
       "</div>"
      ],
      "text/plain": [
       "Empty DataFrame\n",
       "Columns: [order_id, user_id, order_number, order_dow, order_hour_of_day, days_since_prior_order, product_id, add_to_cart_order, reordered, aisle, product_name, department]\n",
       "Index: []"
      ]
     },
     "execution_count": 174,
     "metadata": {},
     "output_type": "execute_result"
    }
   ],
   "source": [
    "duplicate = df[df.duplicated()]\n",
    " \n",
    "print(\"Duplicate Rows :\")\n",
    "duplicate"
   ]
  },
  {
   "cell_type": "markdown",
   "id": "8e3c1d00",
   "metadata": {},
   "source": [
    "The data doesn't have any duplicate values"
   ]
  },
  {
   "cell_type": "markdown",
   "id": "2d2a180e",
   "metadata": {},
   "source": [
    "### Balance Dataset"
   ]
  },
  {
   "cell_type": "code",
   "execution_count": 175,
   "id": "bb24d3c8",
   "metadata": {},
   "outputs": [
    {
     "data": {
      "text/plain": [
       "(24066, 2)"
      ]
     },
     "execution_count": 175,
     "metadata": {},
     "output_type": "execute_result"
    }
   ],
   "source": [
    "df_bal = df.groupby([\"department\", \"reordered\"])[[\"department\", \"reordered\"]]\n",
    "df_balanced = df_bal.apply(lambda x: x.sample(df_bal.size().min()).reset_index(drop=True))\n",
    "df_balanced.shape"
   ]
  },
  {
   "cell_type": "code",
   "execution_count": 176,
   "id": "2bddfd9b",
   "metadata": {},
   "outputs": [
    {
     "data": {
      "image/png": "[encoded data removed]",
      "text/plain": [
       "<Figure size 720x504 with 1 Axes>"
      ]
     },
     "metadata": {
      "needs_background": "light"
     },
     "output_type": "display_data"
    }
   ],
   "source": [
    "plt.figure(figsize=(10,7))\n",
    "sns.countplot(data=df_balanced,\n",
    "            x=\"reordered\",\n",
    "         \n",
    "            hue=\"department\"\n",
    "           \n",
    "            \n",
    "           )\n",
    "\n",
    "plt.title(\"The Distribution of Department Categories Across Reordered Column\")\n",
    "plt.show()"
   ]
  },
  {
   "cell_type": "code",
   "execution_count": null,
   "id": "ae283494",
   "metadata": {},
   "outputs": [],
   "source": []
  },
  {
   "cell_type": "markdown",
   "id": "2b3820ed",
   "metadata": {},
   "source": [
    "### How frequent a customer has reordered products"
   ]
  },
  {
   "cell_type": "markdown",
   "id": "2fca0bf2",
   "metadata": {},
   "source": [
    "This feature is a ratio which shows for each user in what extent has \n",
    "products that have been reordered in the past: \n",
    "So we create the following ratio: "
   ]
  },
  {
   "cell_type": "code",
   "execution_count": 183,
   "id": "835f95a2",
   "metadata": {},
   "outputs": [
    {
     "data": {
      "text/html": [
       "<div>\n",
       "<style scoped>\n",
       "    .dataframe tbody tr th:only-of-type {\n",
       "        vertical-align: middle;\n",
       "    }\n",
       "\n",
       "    .dataframe tbody tr th {\n",
       "        vertical-align: top;\n",
       "    }\n",
       "\n",
       "    .dataframe thead th {\n",
       "        text-align: right;\n",
       "    }\n",
       "</style>\n",
       "<table border=\"1\" class=\"dataframe\">\n",
       "  <thead>\n",
       "    <tr style=\"text-align: right;\">\n",
       "      <th></th>\n",
       "      <th>user_id</th>\n",
       "      <th>u_reordered_ratio</th>\n",
       "    </tr>\n",
       "  </thead>\n",
       "  <tbody>\n",
       "    <tr>\n",
       "      <th>0</th>\n",
       "      <td>1</td>\n",
       "      <td>0.909091</td>\n",
       "    </tr>\n",
       "    <tr>\n",
       "      <th>1</th>\n",
       "      <td>2</td>\n",
       "      <td>0.387097</td>\n",
       "    </tr>\n",
       "    <tr>\n",
       "      <th>2</th>\n",
       "      <td>5</td>\n",
       "      <td>0.444444</td>\n",
       "    </tr>\n",
       "    <tr>\n",
       "      <th>3</th>\n",
       "      <td>7</td>\n",
       "      <td>0.888889</td>\n",
       "    </tr>\n",
       "    <tr>\n",
       "      <th>4</th>\n",
       "      <td>8</td>\n",
       "      <td>0.222222</td>\n",
       "    </tr>\n",
       "    <tr>\n",
       "      <th>5</th>\n",
       "      <td>9</td>\n",
       "      <td>1.000000</td>\n",
       "    </tr>\n",
       "    <tr>\n",
       "      <th>6</th>\n",
       "      <td>10</td>\n",
       "      <td>0.000000</td>\n",
       "    </tr>\n",
       "    <tr>\n",
       "      <th>7</th>\n",
       "      <td>13</td>\n",
       "      <td>0.800000</td>\n",
       "    </tr>\n",
       "    <tr>\n",
       "      <th>8</th>\n",
       "      <td>14</td>\n",
       "      <td>0.727273</td>\n",
       "    </tr>\n",
       "    <tr>\n",
       "      <th>9</th>\n",
       "      <td>17</td>\n",
       "      <td>0.500000</td>\n",
       "    </tr>\n",
       "    <tr>\n",
       "      <th>10</th>\n",
       "      <td>18</td>\n",
       "      <td>0.454545</td>\n",
       "    </tr>\n",
       "    <tr>\n",
       "      <th>11</th>\n",
       "      <td>21</td>\n",
       "      <td>0.833333</td>\n",
       "    </tr>\n",
       "    <tr>\n",
       "      <th>12</th>\n",
       "      <td>23</td>\n",
       "      <td>0.500000</td>\n",
       "    </tr>\n",
       "    <tr>\n",
       "      <th>13</th>\n",
       "      <td>24</td>\n",
       "      <td>1.000000</td>\n",
       "    </tr>\n",
       "    <tr>\n",
       "      <th>14</th>\n",
       "      <td>27</td>\n",
       "      <td>0.823529</td>\n",
       "    </tr>\n",
       "  </tbody>\n",
       "</table>\n",
       "</div>"
      ],
      "text/plain": [
       "    user_id  u_reordered_ratio\n",
       "0         1           0.909091\n",
       "1         2           0.387097\n",
       "2         5           0.444444\n",
       "3         7           0.888889\n",
       "4         8           0.222222\n",
       "5         9           1.000000\n",
       "6        10           0.000000\n",
       "7        13           0.800000\n",
       "8        14           0.727273\n",
       "9        17           0.500000\n",
       "10       18           0.454545\n",
       "11       21           0.833333\n",
       "12       23           0.500000\n",
       "13       24           1.000000\n",
       "14       27           0.823529"
      ]
     },
     "execution_count": 183,
     "metadata": {},
     "output_type": "execute_result"
    }
   ],
   "source": [
    "u_reorder = df.groupby('user_id')['reordered'].mean().to_frame('u_reordered_ratio')\n",
    "u_reorder = u_reorder.reset_index()\n",
    "u_reorder.head(15)"
   ]
  },
  {
   "cell_type": "markdown",
   "id": "85d3ed47",
   "metadata": {},
   "source": [
    "### 2.2.1 Number of purchases for each product"
   ]
  },
  {
   "cell_type": "markdown",
   "id": "6f519c7f",
   "metadata": {},
   "source": [
    "We calculate the total number of purchases for each product (from all customers). We create a prd DataFrame to store the results."
   ]
  },
  {
   "cell_type": "code",
   "execution_count": 190,
   "id": "886a221a",
   "metadata": {},
   "outputs": [
    {
     "data": {
      "text/html": [
       "<div>\n",
       "<style scoped>\n",
       "    .dataframe tbody tr th:only-of-type {\n",
       "        vertical-align: middle;\n",
       "    }\n",
       "\n",
       "    .dataframe tbody tr th {\n",
       "        vertical-align: top;\n",
       "    }\n",
       "\n",
       "    .dataframe thead th {\n",
       "        text-align: right;\n",
       "    }\n",
       "</style>\n",
       "<table border=\"1\" class=\"dataframe\">\n",
       "  <thead>\n",
       "    <tr style=\"text-align: right;\">\n",
       "      <th></th>\n",
       "      <th>p_total_purchases</th>\n",
       "    </tr>\n",
       "    <tr>\n",
       "      <th>product_id</th>\n",
       "      <th></th>\n",
       "    </tr>\n",
       "  </thead>\n",
       "  <tbody>\n",
       "    <tr>\n",
       "      <th>1</th>\n",
       "      <td>76</td>\n",
       "    </tr>\n",
       "    <tr>\n",
       "      <th>2</th>\n",
       "      <td>4</td>\n",
       "    </tr>\n",
       "    <tr>\n",
       "      <th>3</th>\n",
       "      <td>6</td>\n",
       "    </tr>\n",
       "    <tr>\n",
       "      <th>4</th>\n",
       "      <td>22</td>\n",
       "    </tr>\n",
       "    <tr>\n",
       "      <th>5</th>\n",
       "      <td>1</td>\n",
       "    </tr>\n",
       "  </tbody>\n",
       "</table>\n",
       "</div>"
      ],
      "text/plain": [
       "            p_total_purchases\n",
       "product_id                   \n",
       "1                          76\n",
       "2                           4\n",
       "3                           6\n",
       "4                          22\n",
       "5                           1"
      ]
     },
     "execution_count": 190,
     "metadata": {},
     "output_type": "execute_result"
    }
   ],
   "source": [
    "# Create distinct groups for each product, count the orders, save the result for each product to a new DataFrame \n",
    "\n",
    "prd = df.groupby('product_id')['order_id'].count().to_frame('p_total_purchases')\n",
    "prd.head()"
   ]
  },
  {
   "cell_type": "code",
   "execution_count": 185,
   "id": "2d289e96",
   "metadata": {},
   "outputs": [
    {
     "data": {
      "text/html": [
       "<div>\n",
       "<style scoped>\n",
       "    .dataframe tbody tr th:only-of-type {\n",
       "        vertical-align: middle;\n",
       "    }\n",
       "\n",
       "    .dataframe tbody tr th {\n",
       "        vertical-align: top;\n",
       "    }\n",
       "\n",
       "    .dataframe thead th {\n",
       "        text-align: right;\n",
       "    }\n",
       "</style>\n",
       "<table border=\"1\" class=\"dataframe\">\n",
       "  <thead>\n",
       "    <tr style=\"text-align: right;\">\n",
       "      <th></th>\n",
       "      <th>product_id</th>\n",
       "      <th>p_total_purchases</th>\n",
       "    </tr>\n",
       "  </thead>\n",
       "  <tbody>\n",
       "    <tr>\n",
       "      <th>0</th>\n",
       "      <td>1</td>\n",
       "      <td>76</td>\n",
       "    </tr>\n",
       "    <tr>\n",
       "      <th>1</th>\n",
       "      <td>2</td>\n",
       "      <td>4</td>\n",
       "    </tr>\n",
       "    <tr>\n",
       "      <th>2</th>\n",
       "      <td>3</td>\n",
       "      <td>6</td>\n",
       "    </tr>\n",
       "    <tr>\n",
       "      <th>3</th>\n",
       "      <td>4</td>\n",
       "      <td>22</td>\n",
       "    </tr>\n",
       "    <tr>\n",
       "      <th>4</th>\n",
       "      <td>5</td>\n",
       "      <td>1</td>\n",
       "    </tr>\n",
       "  </tbody>\n",
       "</table>\n",
       "</div>"
      ],
      "text/plain": [
       "   product_id  p_total_purchases\n",
       "0           1                 76\n",
       "1           2                  4\n",
       "2           3                  6\n",
       "3           4                 22\n",
       "4           5                  1"
      ]
     },
     "execution_count": 185,
     "metadata": {},
     "output_type": "execute_result"
    }
   ],
   "source": [
    "# Reset the index of the DF so to bring product_id rom index to column (pre-requisite for step 2.4)\n",
    "prd = prd.reset_index()\n",
    "prd.head()"
   ]
  },
  {
   "cell_type": "markdown",
   "id": "0f327670",
   "metadata": {},
   "source": [
    "### 2.2.2.1 Removing  products with less than 40 purchases "
   ]
  },
  {
   "cell_type": "code",
   "execution_count": 187,
   "id": "f6213f58",
   "metadata": {},
   "outputs": [
    {
     "data": {
      "text/html": [
       "<div>\n",
       "<style scoped>\n",
       "    .dataframe tbody tr th:only-of-type {\n",
       "        vertical-align: middle;\n",
       "    }\n",
       "\n",
       "    .dataframe tbody tr th {\n",
       "        vertical-align: top;\n",
       "    }\n",
       "\n",
       "    .dataframe thead th {\n",
       "        text-align: right;\n",
       "    }\n",
       "</style>\n",
       "<table border=\"1\" class=\"dataframe\">\n",
       "  <thead>\n",
       "    <tr style=\"text-align: right;\">\n",
       "      <th></th>\n",
       "      <th>order_id</th>\n",
       "      <th>user_id</th>\n",
       "      <th>order_number</th>\n",
       "      <th>order_dow</th>\n",
       "      <th>order_hour_of_day</th>\n",
       "      <th>days_since_prior_order</th>\n",
       "      <th>product_id</th>\n",
       "      <th>add_to_cart_order</th>\n",
       "      <th>reordered</th>\n",
       "      <th>aisle</th>\n",
       "      <th>product_name</th>\n",
       "      <th>department</th>\n",
       "    </tr>\n",
       "  </thead>\n",
       "  <tbody>\n",
       "    <tr>\n",
       "      <th>0</th>\n",
       "      <td>1187899</td>\n",
       "      <td>1</td>\n",
       "      <td>11</td>\n",
       "      <td>4</td>\n",
       "      <td>8</td>\n",
       "      <td>14.0</td>\n",
       "      <td>49235</td>\n",
       "      <td>10</td>\n",
       "      <td>1</td>\n",
       "      <td>cream</td>\n",
       "      <td>Organic Half &amp; Half</td>\n",
       "      <td>dairy eggs</td>\n",
       "    </tr>\n",
       "    <tr>\n",
       "      <th>1</th>\n",
       "      <td>1187899</td>\n",
       "      <td>1</td>\n",
       "      <td>11</td>\n",
       "      <td>4</td>\n",
       "      <td>8</td>\n",
       "      <td>14.0</td>\n",
       "      <td>46149</td>\n",
       "      <td>11</td>\n",
       "      <td>1</td>\n",
       "      <td>soft drinks</td>\n",
       "      <td>Zero Calorie Cola</td>\n",
       "      <td>beverages</td>\n",
       "    </tr>\n",
       "    <tr>\n",
       "      <th>2</th>\n",
       "      <td>1187899</td>\n",
       "      <td>1</td>\n",
       "      <td>11</td>\n",
       "      <td>4</td>\n",
       "      <td>8</td>\n",
       "      <td>14.0</td>\n",
       "      <td>196</td>\n",
       "      <td>1</td>\n",
       "      <td>1</td>\n",
       "      <td>soft drinks</td>\n",
       "      <td>Soda</td>\n",
       "      <td>beverages</td>\n",
       "    </tr>\n",
       "    <tr>\n",
       "      <th>3</th>\n",
       "      <td>1187899</td>\n",
       "      <td>1</td>\n",
       "      <td>11</td>\n",
       "      <td>4</td>\n",
       "      <td>8</td>\n",
       "      <td>14.0</td>\n",
       "      <td>27845</td>\n",
       "      <td>9</td>\n",
       "      <td>0</td>\n",
       "      <td>milk</td>\n",
       "      <td>Organic Whole Milk</td>\n",
       "      <td>dairy eggs</td>\n",
       "    </tr>\n",
       "    <tr>\n",
       "      <th>4</th>\n",
       "      <td>1187899</td>\n",
       "      <td>1</td>\n",
       "      <td>11</td>\n",
       "      <td>4</td>\n",
       "      <td>8</td>\n",
       "      <td>14.0</td>\n",
       "      <td>38928</td>\n",
       "      <td>3</td>\n",
       "      <td>1</td>\n",
       "      <td>yogurt</td>\n",
       "      <td>0% Greek Strained Yogurt</td>\n",
       "      <td>dairy eggs</td>\n",
       "    </tr>\n",
       "  </tbody>\n",
       "</table>\n",
       "</div>"
      ],
      "text/plain": [
       "   order_id  user_id  order_number  order_dow  order_hour_of_day  \\\n",
       "0   1187899        1            11          4                  8   \n",
       "1   1187899        1            11          4                  8   \n",
       "2   1187899        1            11          4                  8   \n",
       "3   1187899        1            11          4                  8   \n",
       "4   1187899        1            11          4                  8   \n",
       "\n",
       "   days_since_prior_order  product_id  add_to_cart_order  reordered  \\\n",
       "0                    14.0       49235                 10          1   \n",
       "1                    14.0       46149                 11          1   \n",
       "2                    14.0         196                  1          1   \n",
       "3                    14.0       27845                  9          0   \n",
       "4                    14.0       38928                  3          1   \n",
       "\n",
       "         aisle              product_name  department  \n",
       "0        cream       Organic Half & Half  dairy eggs  \n",
       "1  soft drinks         Zero Calorie Cola   beverages  \n",
       "2  soft drinks                      Soda   beverages  \n",
       "3         milk        Organic Whole Milk  dairy eggs  \n",
       "4       yogurt  0% Greek Strained Yogurt  dairy eggs  "
      ]
     },
     "execution_count": 187,
     "metadata": {},
     "output_type": "execute_result"
    }
   ],
   "source": [
    "p_reorder = df.groupby('product_id').filter(lambda x: x.shape[0] >260)\n",
    "p_reorder.head()"
   ]
  },
  {
   "cell_type": "code",
   "execution_count": 188,
   "id": "b1a4814b",
   "metadata": {},
   "outputs": [
    {
     "data": {
      "text/plain": [
       "(694239, 12)"
      ]
     },
     "execution_count": 188,
     "metadata": {},
     "output_type": "execute_result"
    }
   ],
   "source": [
    "p_reorder.shape"
   ]
  },
  {
   "cell_type": "code",
   "execution_count": 189,
   "id": "c59ad252",
   "metadata": {},
   "outputs": [
    {
     "data": {
      "text/html": [
       "<div>\n",
       "<style scoped>\n",
       "    .dataframe tbody tr th:only-of-type {\n",
       "        vertical-align: middle;\n",
       "    }\n",
       "\n",
       "    .dataframe tbody tr th {\n",
       "        vertical-align: top;\n",
       "    }\n",
       "\n",
       "    .dataframe thead th {\n",
       "        text-align: right;\n",
       "    }\n",
       "</style>\n",
       "<table border=\"1\" class=\"dataframe\">\n",
       "  <thead>\n",
       "    <tr style=\"text-align: right;\">\n",
       "      <th></th>\n",
       "      <th>product_id</th>\n",
       "      <th>p_reorder_ratio</th>\n",
       "    </tr>\n",
       "  </thead>\n",
       "  <tbody>\n",
       "    <tr>\n",
       "      <th>0</th>\n",
       "      <td>45</td>\n",
       "      <td>0.697600</td>\n",
       "    </tr>\n",
       "    <tr>\n",
       "      <th>1</th>\n",
       "      <td>196</td>\n",
       "      <td>0.810219</td>\n",
       "    </tr>\n",
       "    <tr>\n",
       "      <th>2</th>\n",
       "      <td>260</td>\n",
       "      <td>0.609877</td>\n",
       "    </tr>\n",
       "    <tr>\n",
       "      <th>3</th>\n",
       "      <td>311</td>\n",
       "      <td>0.594306</td>\n",
       "    </tr>\n",
       "    <tr>\n",
       "      <th>4</th>\n",
       "      <td>329</td>\n",
       "      <td>0.808333</td>\n",
       "    </tr>\n",
       "  </tbody>\n",
       "</table>\n",
       "</div>"
      ],
      "text/plain": [
       "   product_id  p_reorder_ratio\n",
       "0          45         0.697600\n",
       "1         196         0.810219\n",
       "2         260         0.609877\n",
       "3         311         0.594306\n",
       "4         329         0.808333"
      ]
     },
     "execution_count": 189,
     "metadata": {},
     "output_type": "execute_result"
    }
   ],
   "source": [
    "p_reorder = p_reorder.groupby('product_id')['reordered'].mean().to_frame('p_reorder_ratio')\n",
    "p_reorder = p_reorder.reset_index()\n",
    "p_reorder.head()"
   ]
  },
  {
   "cell_type": "code",
   "execution_count": null,
   "id": "ded52050",
   "metadata": {},
   "outputs": [],
   "source": []
  }
 ],
 "metadata": {
  "kernelspec": {
   "display_name": "Python 3",
   "language": "python",
   "name": "python3"
  },
  "language_info": {
   "codemirror_mode": {
    "name": "ipython",
    "version": 3
   },
   "file_extension": ".py",
   "mimetype": "text/x-python",
   "name": "python",
   "nbconvert_exporter": "python",
   "pygments_lexer": "ipython3",
   "version": "3.8.5"
  }
 },
 "nbformat": 4,
 "nbformat_minor": 5
}
